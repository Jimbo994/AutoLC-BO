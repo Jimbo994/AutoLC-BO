{
 "cells": [
  {
   "cell_type": "markdown",
   "metadata": {},
   "source": [
    "# Single-objective and Multi-objective Bayesian optimization for a retention modelling toy example\n",
    "\n",
    "In this tutorial, we illustrate how to implement the single-objective and multi-objective BO algorithms. It closely follows the toy retention modelling experiment shown in Section 4.5 of [Closed-loop automatic gradient design for liquid chromatography using Bayesian optimization](https://chemrxiv.org/engage/chemrxiv/article-details/62e2a383e7fc8f9e388caabc). \n",
    "\n",
    "Here we are using the [BoFire](https://github.com/experimental-design/bofire) library for the optimization:"
   ]
  },
  {
   "cell_type": "markdown",
   "metadata": {},
   "source": [
    "## Imports"
   ]
  },
  {
   "cell_type": "code",
   "execution_count": 1,
   "metadata": {},
   "outputs": [
    {
     "name": "stderr",
     "output_type": "stream",
     "text": [
      "/Users/jimboelrijk/opt/anaconda3/envs/bofire/lib/python3.11/site-packages/tqdm/auto.py:21: TqdmWarning: IProgress not found. Please update jupyter and ipywidgets. See https://ipywidgets.readthedocs.io/en/stable/user_install.html\n",
      "  from .autonotebook import tqdm as notebook_tqdm\n",
      "/Users/jimboelrijk/opt/anaconda3/envs/bofire/lib/python3.11/site-packages/bofire/surrogates/xgb.py:12: UserWarning: xgboost not installed, BoFire's `XGBoostSurrogate` cannot be used.\n",
      "  warnings.warn(\"xgboost not installed, BoFire's `XGBoostSurrogate` cannot be used.\")\n"
     ]
    }
   ],
   "source": [
    "import pandas as pd\n",
    "import numpy as np\n",
    "import matplotlib.pyplot as plt\n",
    "from typing import List, Tuple\n",
    "\n",
    "\n",
    "from rm_code.crf import capped_sum_of_resolutions\n",
    "from rm_code.retention_model import compute_chromatogram\n",
    "from rm_code.plot_chromatogram import plot_chromatogram\n",
    "\n",
    "\n",
    "from bofire.data_models.domain.api import Domain, Inputs, Outputs, Constraints\n",
    "from bofire.data_models.features.api import ContinuousInput, ContinuousOutput\n",
    "from bofire.data_models.constraints.api import LinearInequalityConstraint\n",
    "from bofire.benchmarks.api import Benchmark\n",
    "from bofire.data_models.objectives.api import MaximizeObjective, MinimizeObjective\n",
    "from bofire.data_models.strategies.api import RandomStrategy, SoboStrategy, MoboStrategy\n",
    "import bofire.strategies.api as strategies\n",
    "from bofire.runners.api import run\n",
    "from bofire.utils.multiobjective import compute_hypervolume, get_pareto_front\n",
    "\n"
   ]
  },
  {
   "cell_type": "code",
   "execution_count": 2,
   "metadata": {},
   "outputs": [],
   "source": [
    "class HPLC(Benchmark):\n",
    "\n",
    "    def __init__(self, n_gradients, multiobjective = False):\n",
    "        super().__init__(outlier_rate=0, outlier_prior=None)\n",
    "        self.n_gradients = n_gradients\n",
    "        outputs = [ContinuousOutput(key=\"resolution\", objective=MaximizeObjective())]\n",
    "        if multiobjective:\n",
    "            outputs.append(ContinuousOutput(key=\"ctime\", objective=MinimizeObjective()))\n",
    "        self._domain = Domain(\n",
    "            inputs=Inputs(\n",
    "                features=[ContinuousInput(key=f\"t_{i+1}\", bounds=(0.01, 59.9)) for i in range(n_gradients)]+[ContinuousInput(key=f\"phi_{i+1}\", bounds=(0.01, 1)) for i in range(n_gradients)]\n",
    "            ),\n",
    "            constraints=Constraints(\n",
    "                constraints=\n",
    "                    [LinearInequalityConstraint(features=[f\"t_{i+2}\",f\"t_{i+1}\"], coefficients=[-1.,1.], rhs=-0.01) for i in range(n_gradients-1)]+[LinearInequalityConstraint(features=[f\"phi_{i+2}\",f\"phi_{i+1}\"], coefficients=[-1.,1.], rhs=0) for i in range(n_gradients-1)],\n",
    "            ),\n",
    "            outputs=Outputs(\n",
    "                features=outputs,\n",
    "            )\n",
    "        )\n",
    "        \n",
    "        ret_pars = np.loadtxt('data/RetentionParams_Section4.5.txt') # retention parameters from example in Section 4.5\n",
    "        self.k0_list = np.exp(ret_pars[:,0])\n",
    "        self.S_list = ret_pars[:,1]\n",
    "        # Set some default parameters\n",
    "        self.t_0 = 0.8 # dead time \n",
    "        self.t_D = 0.8 # dwell time\n",
    "        self.N = 1000 # plate number\n",
    "        self.t_init = 0 # init time\n",
    "\n",
    "    @property\n",
    "    def ts(self) -> List[str]:\n",
    "        return [f\"t_{i+1}\"for i in range(self.n_gradients)]\n",
    "    \n",
    "    @property\n",
    "    def phis(self) -> List[str]:\n",
    "        return [f\"phi_{i+1}\"for i in range(self.n_gradients)]\n",
    "    \n",
    "    def plot_chromatogram(self, candidate:pd.Series):\n",
    "        phi_list_ms = [0.0] + candidate[self.phis].tolist() + [1.0]\n",
    "        t_list_ms = [0.0] + candidate[self.ts].tolist() + [60.0]\n",
    "        tR_list, W_list = compute_chromatogram(self.k0_list, self.S_list, self.t_0, self.t_D, self.t_init, phi_list_ms, t_list_ms, self.N)\n",
    "        score_lin = capped_sum_of_resolutions(tR_list, W_list, max_time=60, min_res=0, max_res=1.5)\n",
    "        # compute time score, i.e. time of last eluting peak.\n",
    "        time_score_lin = np.max(tR_list)\n",
    "        plot_chromatogram(tR_list, W_list, phi_list_ms, t_list_ms, self.t_D, self.t_0, self.t_init)\n",
    "        print(f\"resolution: {score_lin}\")\n",
    "        print(f\"time: {time_score_lin}\")\n",
    "        return score_lin, time_score_lin\n",
    "\n",
    "\n",
    "    def _f(self, candidates: pd.DataFrame) -> pd.DataFrame:\n",
    "        data = {\n",
    "            \"resolution\": [],\n",
    "            \"valid_resolution\": [],\n",
    "            \"ctime\": [],\n",
    "            \"valid_ctime\": [],\n",
    "        }\n",
    "        for i, row in candidates.iterrows():\n",
    "            phi_list_ms = [0.0] + row[self.phis].tolist() + [1.0]\n",
    "            t_list_ms = [0.0] + row[self.ts].tolist() + [60.0]\n",
    "            #print(phi_list_ms)\n",
    "            #print(t_list_ms)\n",
    "            tR_list, W_list = compute_chromatogram(self.k0_list, self.S_list, self.t_0, self.t_D, self.t_init, phi_list_ms, t_list_ms, self.N)\n",
    "            score_lin = capped_sum_of_resolutions(tR_list, W_list, max_time=60, min_res=0, max_res=1.5)\n",
    "            # compute time score, i.e. time of last eluting peak.\n",
    "            time_score_lin = np.max(tR_list)\n",
    "            data[\"resolution\"].append(score_lin)\n",
    "            data[\"valid_resolution\"].append(1)\n",
    "            data[\"ctime\"].append(time_score_lin)\n",
    "            data[\"valid_ctime\"].append(1)\n",
    "        return pd.DataFrame.from_dict(data=data)"
   ]
  },
  {
   "cell_type": "markdown",
   "metadata": {},
   "source": [
    "### Alternative Relative Coordinate system\n",
    "\n",
    "Attempting alternative coordinate system, in case you have 4 gradient nodes to position (8 degrees of freedom in total), you could setup all ts and phis as reduced ts_r and phis_r with ranges from 0 to 1. The time of the first gradient point would be just t_1 = lower_bound + t_1r * (upper_bound – lower_bound), the time of the second gradient would then be determined by the position of the first one and the upper bound: t_2 = t_1 + t_2r * (upper_bound – t1). This can then be applied for the timings of all gradients and for the phis."
   ]
  },
  {
   "cell_type": "code",
   "execution_count": 3,
   "metadata": {},
   "outputs": [],
   "source": [
    "class HPLC_alt(Benchmark):\n",
    "\n",
    "    def __init__(self, n_gradients, multiobjective = False):\n",
    "        super().__init__(outlier_rate=0, outlier_prior=None)\n",
    "        self.n_gradients = n_gradients\n",
    "        outputs = [ContinuousOutput(key=\"resolution\", objective=MaximizeObjective())]\n",
    "        if multiobjective:\n",
    "            outputs.append(ContinuousOutput(key=\"ctime\", objective=MinimizeObjective()))\n",
    "        self._domain = Domain(\n",
    "            inputs=Inputs(\n",
    "                features=[ContinuousInput(key=f\"t_{i+1}\", bounds=(0.01, 0.99)) for i in range(n_gradients)]+[ContinuousInput(key=f\"phi_{i+1}\", bounds=(0.01, 0.99)) for i in range(n_gradients)]\n",
    "            ),\n",
    "            # constraints=Constraints(\n",
    "            #     constraints=\n",
    "            #         [LinearInequalityConstraint(features=[f\"t_{i+2}\",f\"t_{i+1}\"], coefficients=[-1.,1.], rhs=-0.01) for i in range(n_gradients-1)]+[LinearInequalityConstraint(features=[f\"phi_{i+2}\",f\"phi_{i+1}\"], coefficients=[-1.,1.], rhs=0) for i in range(n_gradients-1)],\n",
    "            # ),\n",
    "            outputs=Outputs(\n",
    "                features=outputs,\n",
    "            )\n",
    "        )\n",
    "        \n",
    "        ret_pars = np.loadtxt('data/RetentionParams_Section4.5.txt') # retention parameters from example in Section 4.5\n",
    "        self.k0_list = np.exp(ret_pars[:,0])\n",
    "        self.S_list = ret_pars[:,1]\n",
    "        # Set some default parameters\n",
    "        self.t_0 = 0.8 # dead time \n",
    "        self.t_D = 0.8 # dwell time\n",
    "        self.N = 1000 # plate number\n",
    "        self.t_init = 0 # init time\n",
    "        self.max_time = 60 # max time\n",
    "\n",
    "    @property\n",
    "    def ts(self) -> List[str]:\n",
    "        return [f\"t_{i+1}\"for i in range(self.n_gradients)]\n",
    "    \n",
    "    @property\n",
    "    def phis(self) -> List[str]:\n",
    "        return [f\"phi_{i+1}\"for i in range(self.n_gradients)]\n",
    "    \n",
    "    def plot_chromatogram(self, candidate:pd.Series):\n",
    "        phis, ts = self.transform(candidate[self.phis].tolist(), candidate[self.ts].tolist())\n",
    "        phi_list_ms = [0.0] + phis + [1.0]\n",
    "        t_list_ms = [0.0] + ts + [60.0]      \n",
    "\n",
    "        print(t_list_ms, phi_list_ms)\n",
    "        tR_list, W_list = compute_chromatogram(self.k0_list, self.S_list, self.t_0, self.t_D, self.t_init, phi_list_ms, t_list_ms, self.N)\n",
    "        score_lin = capped_sum_of_resolutions(tR_list, W_list, max_time=60, min_res=0, max_res=1.5)\n",
    "        # compute time score, i.e. time of last eluting peak.\n",
    "        time_score_lin = np.max(tR_list)\n",
    "        plot_chromatogram(tR_list, W_list, phi_list_ms, t_list_ms, self.t_D, self.t_0, self.t_init)\n",
    "        print(f\"resolution: {score_lin}\")\n",
    "        print(f\"time: {time_score_lin}\")\n",
    "        return score_lin, time_score_lin\n",
    "\n",
    "    def transform(self, phis_r: List[float], ts_r: List[float]) -> [List[float], List[float]]:\n",
    "        lower_bound_t = 0\n",
    "        upper_bound_t = 1\n",
    "        lower_bound_phi = 0\n",
    "        upper_bound_phi = 1\n",
    "        ts = []\n",
    "        phis = []\n",
    "        for phi_r, t_r in zip(phis_r, ts_r):\n",
    "            t = lower_bound_t + (t_r * (upper_bound_t - lower_bound_t))\n",
    "            lower_bound_t = t\n",
    "            ts.append(t)\n",
    "            phi = lower_bound_phi + (phi_r * (upper_bound_phi - lower_bound_phi))\n",
    "            phis.append(phi)\n",
    "            lower_bound_phi =phi\n",
    "\n",
    "        # RM code does not like similar timepoints, will cause a divide by zero.\n",
    "        for i in range(len(ts) - 1):\n",
    "            if ts[i + 1] - ts[i] < 0.01:\n",
    "                for j in range(i + 1, len(ts)):\n",
    "                    ts[j] = ts[j] + 0.01\n",
    "\n",
    "        return phis, [t * self.max_time for t in ts]\n",
    "        \n",
    "    \n",
    "    def _f(self, candidates: pd.DataFrame) -> pd.DataFrame:\n",
    "        data = {\n",
    "            \"resolution\": [],\n",
    "            \"valid_resolution\": [],\n",
    "            \"ctime\": [],\n",
    "            \"valid_ctime\": [],\n",
    "        }\n",
    "        for i, row in candidates.iterrows():\n",
    "            phis, ts = self.transform(row[self.phis].tolist(), row[self.ts].tolist())\n",
    "            phi_list_ms = [0.0] + phis + [1.0]\n",
    "            t_list_ms = [0.0] + ts + [60.0]      \n",
    "            \n",
    "            # print(phi_list_ms)\n",
    "            # print(t_list_ms)\n",
    "            tR_list, W_list = compute_chromatogram(self.k0_list, self.S_list, self.t_0, self.t_D, self.t_init, phi_list_ms, t_list_ms, self.N)\n",
    "            score_lin = capped_sum_of_resolutions(tR_list, W_list, max_time=60, min_res=0, max_res=1.5)\n",
    "            # compute time score, i.e. time of last eluting peak.\n",
    "            time_score_lin = np.max(tR_list)\n",
    "            data[\"resolution\"].append(score_lin)\n",
    "            data[\"valid_resolution\"].append(1)\n",
    "            data[\"ctime\"].append(time_score_lin)\n",
    "            data[\"valid_ctime\"].append(1)\n",
    "        return pd.DataFrame.from_dict(data=data)\n"
   ]
  },
  {
   "cell_type": "markdown",
   "metadata": {},
   "source": [
    "## Perform random sampling to show that constraints are accepted."
   ]
  },
  {
   "cell_type": "code",
   "execution_count": 4,
   "metadata": {},
   "outputs": [
    {
     "data": {
      "text/html": [
       "<div>\n",
       "<style scoped>\n",
       "    .dataframe tbody tr th:only-of-type {\n",
       "        vertical-align: middle;\n",
       "    }\n",
       "\n",
       "    .dataframe tbody tr th {\n",
       "        vertical-align: top;\n",
       "    }\n",
       "\n",
       "    .dataframe thead th {\n",
       "        text-align: right;\n",
       "    }\n",
       "</style>\n",
       "<table border=\"1\" class=\"dataframe\">\n",
       "  <thead>\n",
       "    <tr style=\"text-align: right;\">\n",
       "      <th></th>\n",
       "      <th>phi_1</th>\n",
       "      <th>phi_2</th>\n",
       "      <th>phi_3</th>\n",
       "      <th>phi_4</th>\n",
       "      <th>t_1</th>\n",
       "      <th>t_2</th>\n",
       "      <th>t_3</th>\n",
       "      <th>t_4</th>\n",
       "      <th>resolution</th>\n",
       "      <th>valid_resolution</th>\n",
       "      <th>ctime</th>\n",
       "      <th>valid_ctime</th>\n",
       "    </tr>\n",
       "  </thead>\n",
       "  <tbody>\n",
       "    <tr>\n",
       "      <th>0</th>\n",
       "      <td>0.173754</td>\n",
       "      <td>0.120833</td>\n",
       "      <td>0.292999</td>\n",
       "      <td>0.741604</td>\n",
       "      <td>0.087415</td>\n",
       "      <td>0.590289</td>\n",
       "      <td>0.507497</td>\n",
       "      <td>0.547073</td>\n",
       "      <td>8.752557</td>\n",
       "      <td>1</td>\n",
       "      <td>65.265247</td>\n",
       "      <td>1</td>\n",
       "    </tr>\n",
       "    <tr>\n",
       "      <th>1</th>\n",
       "      <td>0.187020</td>\n",
       "      <td>0.867439</td>\n",
       "      <td>0.430960</td>\n",
       "      <td>0.432960</td>\n",
       "      <td>0.417164</td>\n",
       "      <td>0.591506</td>\n",
       "      <td>0.983300</td>\n",
       "      <td>0.623700</td>\n",
       "      <td>12.074523</td>\n",
       "      <td>1</td>\n",
       "      <td>58.431502</td>\n",
       "      <td>1</td>\n",
       "    </tr>\n",
       "    <tr>\n",
       "      <th>2</th>\n",
       "      <td>0.337320</td>\n",
       "      <td>0.971753</td>\n",
       "      <td>0.591570</td>\n",
       "      <td>0.636041</td>\n",
       "      <td>0.989473</td>\n",
       "      <td>0.326092</td>\n",
       "      <td>0.352897</td>\n",
       "      <td>0.971407</td>\n",
       "      <td>5.462560</td>\n",
       "      <td>1</td>\n",
       "      <td>69.820342</td>\n",
       "      <td>1</td>\n",
       "    </tr>\n",
       "    <tr>\n",
       "      <th>3</th>\n",
       "      <td>0.859362</td>\n",
       "      <td>0.648308</td>\n",
       "      <td>0.373424</td>\n",
       "      <td>0.026716</td>\n",
       "      <td>0.292338</td>\n",
       "      <td>0.555658</td>\n",
       "      <td>0.875057</td>\n",
       "      <td>0.490334</td>\n",
       "      <td>12.863012</td>\n",
       "      <td>1</td>\n",
       "      <td>34.085238</td>\n",
       "      <td>1</td>\n",
       "    </tr>\n",
       "    <tr>\n",
       "      <th>4</th>\n",
       "      <td>0.919072</td>\n",
       "      <td>0.955708</td>\n",
       "      <td>0.276855</td>\n",
       "      <td>0.188605</td>\n",
       "      <td>0.089580</td>\n",
       "      <td>0.149941</td>\n",
       "      <td>0.718333</td>\n",
       "      <td>0.546837</td>\n",
       "      <td>11.844620</td>\n",
       "      <td>1</td>\n",
       "      <td>16.838348</td>\n",
       "      <td>1</td>\n",
       "    </tr>\n",
       "  </tbody>\n",
       "</table>\n",
       "</div>"
      ],
      "text/plain": [
       "      phi_1     phi_2     phi_3     phi_4       t_1       t_2       t_3  \\\n",
       "0  0.173754  0.120833  0.292999  0.741604  0.087415  0.590289  0.507497   \n",
       "1  0.187020  0.867439  0.430960  0.432960  0.417164  0.591506  0.983300   \n",
       "2  0.337320  0.971753  0.591570  0.636041  0.989473  0.326092  0.352897   \n",
       "3  0.859362  0.648308  0.373424  0.026716  0.292338  0.555658  0.875057   \n",
       "4  0.919072  0.955708  0.276855  0.188605  0.089580  0.149941  0.718333   \n",
       "\n",
       "        t_4  resolution  valid_resolution      ctime  valid_ctime  \n",
       "0  0.547073    8.752557                 1  65.265247            1  \n",
       "1  0.623700   12.074523                 1  58.431502            1  \n",
       "2  0.971407    5.462560                 1  69.820342            1  \n",
       "3  0.490334   12.863012                 1  34.085238            1  \n",
       "4  0.546837   11.844620                 1  16.838348            1  "
      ]
     },
     "metadata": {},
     "output_type": "display_data"
    }
   ],
   "source": [
    "hplc_alt = HPLC_alt(n_gradients=4)\n",
    "\n",
    "strategy_data = RandomStrategy(domain=hplc_alt.domain)\n",
    "sampler = strategies.map(strategy_data)\n",
    "candidates = sampler.ask(5)\n",
    "experiments = hplc_alt.f(candidates=candidates, return_complete=True)\n",
    "display(experiments)"
   ]
  },
  {
   "cell_type": "markdown",
   "metadata": {},
   "source": [
    "## Perform random sampling to show that constraints are accepted."
   ]
  },
  {
   "cell_type": "code",
   "execution_count": 5,
   "metadata": {},
   "outputs": [
    {
     "data": {
      "text/html": [
       "<div>\n",
       "<style scoped>\n",
       "    .dataframe tbody tr th:only-of-type {\n",
       "        vertical-align: middle;\n",
       "    }\n",
       "\n",
       "    .dataframe tbody tr th {\n",
       "        vertical-align: top;\n",
       "    }\n",
       "\n",
       "    .dataframe thead th {\n",
       "        text-align: right;\n",
       "    }\n",
       "</style>\n",
       "<table border=\"1\" class=\"dataframe\">\n",
       "  <thead>\n",
       "    <tr style=\"text-align: right;\">\n",
       "      <th></th>\n",
       "      <th>phi_1</th>\n",
       "      <th>phi_2</th>\n",
       "      <th>phi_3</th>\n",
       "      <th>phi_4</th>\n",
       "      <th>t_1</th>\n",
       "      <th>t_2</th>\n",
       "      <th>t_3</th>\n",
       "      <th>t_4</th>\n",
       "      <th>resolution</th>\n",
       "      <th>valid_resolution</th>\n",
       "      <th>ctime</th>\n",
       "      <th>valid_ctime</th>\n",
       "    </tr>\n",
       "  </thead>\n",
       "  <tbody>\n",
       "    <tr>\n",
       "      <th>0</th>\n",
       "      <td>0.148575</td>\n",
       "      <td>0.193189</td>\n",
       "      <td>0.555027</td>\n",
       "      <td>0.603057</td>\n",
       "      <td>16.400286</td>\n",
       "      <td>18.779986</td>\n",
       "      <td>37.386828</td>\n",
       "      <td>52.776105</td>\n",
       "      <td>7.842201</td>\n",
       "      <td>1</td>\n",
       "      <td>65.942514</td>\n",
       "      <td>1</td>\n",
       "    </tr>\n",
       "    <tr>\n",
       "      <th>1</th>\n",
       "      <td>0.216774</td>\n",
       "      <td>0.350452</td>\n",
       "      <td>0.426353</td>\n",
       "      <td>0.485240</td>\n",
       "      <td>3.626203</td>\n",
       "      <td>13.535299</td>\n",
       "      <td>49.669285</td>\n",
       "      <td>53.528693</td>\n",
       "      <td>7.490928</td>\n",
       "      <td>1</td>\n",
       "      <td>67.223786</td>\n",
       "      <td>1</td>\n",
       "    </tr>\n",
       "    <tr>\n",
       "      <th>2</th>\n",
       "      <td>0.062805</td>\n",
       "      <td>0.559994</td>\n",
       "      <td>0.628734</td>\n",
       "      <td>0.632925</td>\n",
       "      <td>12.299062</td>\n",
       "      <td>17.241364</td>\n",
       "      <td>47.283331</td>\n",
       "      <td>49.514760</td>\n",
       "      <td>9.789720</td>\n",
       "      <td>1</td>\n",
       "      <td>63.809727</td>\n",
       "      <td>1</td>\n",
       "    </tr>\n",
       "    <tr>\n",
       "      <th>3</th>\n",
       "      <td>0.052167</td>\n",
       "      <td>0.442957</td>\n",
       "      <td>0.628799</td>\n",
       "      <td>0.772925</td>\n",
       "      <td>28.930768</td>\n",
       "      <td>34.070892</td>\n",
       "      <td>36.347642</td>\n",
       "      <td>51.680482</td>\n",
       "      <td>10.471121</td>\n",
       "      <td>1</td>\n",
       "      <td>63.261123</td>\n",
       "      <td>1</td>\n",
       "    </tr>\n",
       "    <tr>\n",
       "      <th>4</th>\n",
       "      <td>0.242811</td>\n",
       "      <td>0.601454</td>\n",
       "      <td>0.711283</td>\n",
       "      <td>0.892574</td>\n",
       "      <td>23.492654</td>\n",
       "      <td>38.150447</td>\n",
       "      <td>42.613996</td>\n",
       "      <td>45.025117</td>\n",
       "      <td>12.162621</td>\n",
       "      <td>1</td>\n",
       "      <td>57.100766</td>\n",
       "      <td>1</td>\n",
       "    </tr>\n",
       "  </tbody>\n",
       "</table>\n",
       "</div>"
      ],
      "text/plain": [
       "      phi_1     phi_2     phi_3     phi_4        t_1        t_2        t_3  \\\n",
       "0  0.148575  0.193189  0.555027  0.603057  16.400286  18.779986  37.386828   \n",
       "1  0.216774  0.350452  0.426353  0.485240   3.626203  13.535299  49.669285   \n",
       "2  0.062805  0.559994  0.628734  0.632925  12.299062  17.241364  47.283331   \n",
       "3  0.052167  0.442957  0.628799  0.772925  28.930768  34.070892  36.347642   \n",
       "4  0.242811  0.601454  0.711283  0.892574  23.492654  38.150447  42.613996   \n",
       "\n",
       "         t_4  resolution  valid_resolution      ctime  valid_ctime  \n",
       "0  52.776105    7.842201                 1  65.942514            1  \n",
       "1  53.528693    7.490928                 1  67.223786            1  \n",
       "2  49.514760    9.789720                 1  63.809727            1  \n",
       "3  51.680482   10.471121                 1  63.261123            1  \n",
       "4  45.025117   12.162621                 1  57.100766            1  "
      ]
     },
     "metadata": {},
     "output_type": "display_data"
    }
   ],
   "source": [
    "hplc = HPLC(n_gradients=4)\n",
    "\n",
    "strategy_data = RandomStrategy(domain=hplc.domain)\n",
    "sampler = strategies.map(strategy_data)\n",
    "candidates = sampler.ask(5)\n",
    "experiments = hplc.f(candidates=candidates, return_complete=True)\n",
    "display(experiments)"
   ]
  },
  {
   "cell_type": "markdown",
   "metadata": {},
   "source": [
    "## Handpicked gradient program to serve as baseline"
   ]
  },
  {
   "cell_type": "code",
   "execution_count": 6,
   "metadata": {},
   "outputs": [
    {
     "data": {
      "image/png": "[encoded data removed]",
      "text/plain": [
       "<Figure size 640x480 with 2 Axes>"
      ]
     },
     "metadata": {},
     "output_type": "display_data"
    },
    {
     "name": "stdout",
     "output_type": "stream",
     "text": [
      "resolution: 12.730314412317586\n",
      "time: 30.402499679605615\n"
     ]
    }
   ],
   "source": [
    "# plot baseline\n",
    "hplc = HPLC(n_gradients=4)\n",
    "baseline = pd.Series(\n",
    "    data = {\n",
    "        \"phi_1\": 0.18,\n",
    "        \"phi_2\": 0.25,\n",
    "        \"phi_3\": 0.8,\n",
    "        \"phi_4\": 1.,\n",
    "        \"t_1\": 0.1,\n",
    "        \"t_2\": 13,\n",
    "        \"t_3\": 13.1,\n",
    "        \"t_4\": 30.\n",
    "    }\n",
    ")\n",
    "baseline_resolution, baseline_ctime = hplc.plot_chromatogram(baseline)"
   ]
  },
  {
   "cell_type": "markdown",
   "metadata": {},
   "source": [
    "## Optimization"
   ]
  },
  {
   "cell_type": "markdown",
   "metadata": {},
   "source": [
    "### Singleobjective Optimization\n",
    "\n",
    "Here we run a singeobjective optimization in which we want to maximize *just* the resolution. We run 10 campaigns of random sampling, consisting each of 35 samples and again 10 campaigns of BO (GP+qLognei). The first 10 samples of a BO campaign are agains sampled randomly."
   ]
  },
  {
   "cell_type": "markdown",
   "metadata": {},
   "source": [
    "#### Random Sampling"
   ]
  },
  {
   "cell_type": "code",
   "execution_count": 7,
   "metadata": {},
   "outputs": [
    {
     "name": "stderr",
     "output_type": "stream",
     "text": [
      "run 00 with current best 12.940: 100%|██████████████████████████████████████████████████████████████████| 25/25 [00:04<00:00,  5.00it/s]\n",
      "run 00 with current best 13.048: 100%|██████████████████████████████████████████████████████████████████| 25/25 [00:04<00:00,  5.20it/s]\n",
      "run 00 with current best 12.914: 100%|██████████████████████████████████████████████████████████████████| 25/25 [00:04<00:00,  5.34it/s]\n",
      "run 00 with current best 13.134: 100%|██████████████████████████████████████████████████████████████████| 25/25 [00:04<00:00,  5.06it/s]\n",
      "run 00 with current best 12.834: 100%|██████████████████████████████████████████████████████████████████| 25/25 [00:04<00:00,  5.08it/s]\n",
      "run 00 with current best 12.763: 100%|██████████████████████████████████████████████████████████████████| 25/25 [00:04<00:00,  5.21it/s]\n",
      "run 00 with current best 12.816: 100%|██████████████████████████████████████████████████████████████████| 25/25 [00:04<00:00,  5.21it/s]\n",
      "run 00 with current best 12.923: 100%|██████████████████████████████████████████████████████████████████| 25/25 [00:04<00:00,  5.03it/s]\n",
      "run 00 with current best 12.997: 100%|██████████████████████████████████████████████████████████████████| 25/25 [00:04<00:00,  5.68it/s]\n",
      "run 00 with current best 12.942: 100%|██████████████████████████████████████████████████████████████████| 25/25 [00:04<00:00,  5.71it/s]\n",
      "run 00 with current best 13.000: 100%|██████████████████████████████████████████████████████████████████| 25/25 [00:04<00:00,  5.55it/s]\n",
      "run 00 with current best 13.162: 100%|██████████████████████████████████████████████████████████████████| 25/25 [00:04<00:00,  5.42it/s]\n",
      "run 00 with current best 13.010: 100%|██████████████████████████████████████████████████████████████████| 25/25 [00:04<00:00,  5.82it/s]\n",
      "run 00 with current best 12.940: 100%|██████████████████████████████████████████████████████████████████| 25/25 [00:04<00:00,  5.83it/s]\n",
      "run 00 with current best 12.849: 100%|██████████████████████████████████████████████████████████████████| 25/25 [00:04<00:00,  5.19it/s]\n",
      "run 00 with current best 12.866: 100%|██████████████████████████████████████████████████████████████████| 25/25 [00:04<00:00,  5.34it/s]\n"
     ]
    }
   ],
   "source": [
    "def sample(domain):\n",
    "    datamodel = RandomStrategy(domain=domain)\n",
    "    sampler = strategies.map(data_model=datamodel)\n",
    "    sampled = sampler.ask(10)\n",
    "    return sampled\n",
    "\n",
    "def best(domain: Domain, experiments: pd.DataFrame) -> float:\n",
    "    return experiments.resolution.max()\n",
    "\n",
    "rresults = []\n",
    "rresults_alt = []\n",
    "hplc = HPLC(n_gradients=4)\n",
    "hplc_alt = HPLC(n_gradients=4)\n",
    "\n",
    "for i in range(8):\n",
    "    results = random_results = run(\n",
    "        hplc,\n",
    "        strategy_factory=lambda domain: strategies.map(RandomStrategy(domain=hplc.domain)),\n",
    "        n_iterations=25,\n",
    "        metric=best,\n",
    "        initial_sampler=sample,\n",
    "        n_runs=1,\n",
    "        n_procs=1,\n",
    "    )\n",
    "    rresults.append(results[0])\n",
    "\n",
    "for i in range(8):\n",
    "    results = random_results = run(\n",
    "        hplc_alt,\n",
    "        strategy_factory=lambda domain: strategies.map(RandomStrategy(domain=hplc_alt.domain)),\n",
    "        n_iterations=25,\n",
    "        metric=best,\n",
    "        initial_sampler=sample,\n",
    "        n_runs=1,\n",
    "        n_procs=1,\n",
    "    )\n",
    "    rresults_alt.append(results[0])"
   ]
  },
  {
   "cell_type": "markdown",
   "metadata": {},
   "source": [
    "#### Bayesian Optimization"
   ]
  },
  {
   "cell_type": "code",
   "execution_count": 8,
   "metadata": {},
   "outputs": [
    {
     "name": "stderr",
     "output_type": "stream",
     "text": [
      "run 00 with current best 13.012: 100%|██████████████████████████████████████████████████████████████████| 25/25 [02:54<00:00,  6.96s/it]\n",
      "run 00 with current best 13.304: 100%|██████████████████████████████████████████████████████████████████| 25/25 [02:32<00:00,  6.09s/it]\n",
      "run 00 with current best 13.124: 100%|██████████████████████████████████████████████████████████████████| 25/25 [02:31<00:00,  6.05s/it]\n",
      "run 00 with current best 12.800: 100%|██████████████████████████████████████████████████████████████████| 25/25 [02:33<00:00,  6.15s/it]\n",
      "run 00 with current best 14.607: 100%|██████████████████████████████████████████████████████████████████| 25/25 [02:38<00:00,  6.34s/it]\n",
      "run 00 with current best 12.941: 100%|██████████████████████████████████████████████████████████████████| 25/25 [02:39<00:00,  6.39s/it]\n",
      "run 00 with current best 16.419: 100%|██████████████████████████████████████████████████████████████████| 25/25 [02:37<00:00,  6.31s/it]\n",
      "run 00 with current best 13.159: 100%|██████████████████████████████████████████████████████████████████| 25/25 [02:45<00:00,  6.63s/it]\n"
     ]
    }
   ],
   "source": [
    "def sample(domain):\n",
    "    datamodel = RandomStrategy(domain=domain)\n",
    "    sampler = strategies.map(data_model=datamodel)\n",
    "    sampled = sampler.ask(10)\n",
    "    return sampled\n",
    "\n",
    "def best(domain: Domain, experiments: pd.DataFrame) -> float:\n",
    "    return experiments.resolution.max()\n",
    "\n",
    "\n",
    "sresults = []\n",
    "\n",
    "for i in range(8):\n",
    "    results = random_results = run(\n",
    "        hplc,\n",
    "        strategy_factory=lambda domain: strategies.map(SoboStrategy(domain=domain)),\n",
    "        n_iterations=25,\n",
    "        metric=best,\n",
    "        initial_sampler=sample,\n",
    "        n_runs=1,\n",
    "        n_procs=1,\n",
    "    )\n",
    "    sresults.append(results[0])\n",
    "\n"
   ]
  },
  {
   "cell_type": "code",
   "execution_count": 9,
   "metadata": {},
   "outputs": [
    {
     "name": "stderr",
     "output_type": "stream",
     "text": [
      "run 00 with current best 13.395: 100%|██████████████████████████████████████████████████████████████████| 25/25 [02:48<00:00,  6.74s/it]\n",
      "run 00 with current best 13.107: 100%|██████████████████████████████████████████████████████████████████| 25/25 [02:27<00:00,  5.90s/it]\n",
      "run 00 with current best 13.120: 100%|██████████████████████████████████████████████████████████████████| 25/25 [02:31<00:00,  6.07s/it]\n",
      "run 00 with current best 13.030: 100%|██████████████████████████████████████████████████████████████████| 25/25 [02:35<00:00,  6.23s/it]\n",
      "run 00 with current best 13.290: 100%|██████████████████████████████████████████████████████████████████| 25/25 [02:34<00:00,  6.19s/it]\n",
      "run 00 with current best 13.229: 100%|██████████████████████████████████████████████████████████████████| 25/25 [02:28<00:00,  5.96s/it]\n",
      "run 00 with current best 13.171: 100%|██████████████████████████████████████████████████████████████████| 25/25 [02:45<00:00,  6.61s/it]\n",
      "run 00 with current best 13.190: 100%|██████████████████████████████████████████████████████████████████| 25/25 [03:05<00:00,  7.41s/it]\n"
     ]
    }
   ],
   "source": [
    "sresults_alt = []\n",
    "\n",
    "for i in range(8):\n",
    "    results = random_results = run(\n",
    "        hplc_alt,\n",
    "        strategy_factory=lambda domain: strategies.map(SoboStrategy(domain=domain)),\n",
    "        n_iterations=25,\n",
    "        metric=best,\n",
    "        initial_sampler=sample,\n",
    "        n_runs=1,\n",
    "        n_procs=1,\n",
    "    )\n",
    "    sresults_alt.append(results[0])"
   ]
  },
  {
   "cell_type": "markdown",
   "metadata": {},
   "source": [
    "#### Plot the results\n",
    "\n",
    "Here we plot the results averaged over the 10 independent runs per optimizer (random vs BO). Note that we only show in the graph the results starting from iteration 11 in which we switched in the BO case from random sampling to BO."
   ]
  },
  {
   "cell_type": "code",
   "execution_count": 10,
   "metadata": {},
   "outputs": [
    {
     "data": {
      "image/png": "[encoded data removed]",
      "text/plain": [
       "<Figure size 640x480 with 1 Axes>"
      ]
     },
     "metadata": {},
     "output_type": "display_data"
    }
   ],
   "source": [
    "fig, ax = plt.subplots()\n",
    "\n",
    "best_random = np.array([rresults[i][1] for i in range(len(rresults))])\n",
    "ax.plot(range(11, 36), best_random.mean(axis=0), color=\"blue\", label=\"random\")\n",
    "ax.fill_between(range(11, 36),(best_random.mean(0)-best_random.std(0)), (best_random.mean(0)+best_random.std(0)), alpha = 0.3, color = 'blue')\n",
    "\n",
    "best_random_alt = np.array([rresults_alt[i][1] for i in range(len(rresults_alt))])\n",
    "ax.plot(range(11, 36), best_random_alt.mean(axis=0), color=\"green\", label=\"random relative coordinate system\")\n",
    "ax.fill_between(range(11, 36),(best_random_alt.mean(0)-best_random_alt.std(0)), (best_random_alt.mean(0)+best_random_alt.std(0)), alpha = 0.3, color = 'green')\n",
    "\n",
    "best_sobo = np.array([sresults[i][1] for i in range(len(sresults))])\n",
    "ax.plot(range(11, 36), best_sobo.mean(axis=0), color=\"red\", label=\"bo\")\n",
    "ax.fill_between(range(11, 36),(best_sobo.mean(0)-best_sobo.std(0)), (best_sobo.mean(0)+best_sobo.std(0)), alpha = 0.3, color = 'red')\n",
    "\n",
    "best_sobo_alt = np.array([sresults_alt[i][1] for i in range(len(sresults_alt))])\n",
    "ax.plot(range(11, 36), best_sobo_alt.mean(axis=0), color=\"purple\", label=\"bo relative coordinate system\")\n",
    "ax.fill_between(range(11, 36),(best_sobo_alt.mean(0)-best_sobo_alt.std(0)), (best_sobo_alt.mean(0)+best_sobo_alt.std(0)), alpha = 0.3, color = 'purple')\n",
    "\n",
    "ax.axhline(baseline_resolution, color=\"black\", label=\"baseline\")\n",
    "\n",
    "ax.set_xlabel(\"Iteration\")\n",
    "ax.set_ylabel(\"Resolution\")\n",
    "ax.legend()\n",
    "\n",
    "plt.show()"
   ]
  },
  {
   "cell_type": "markdown",
   "metadata": {},
   "source": [
    "### Multiobjective Optimization\n",
    "\n",
    "Here we run a multiobjective optimization in which we want to maximize the resolution and minimize the needed time. We run 10 campaigns of random sampling, consisting each of 35 samples and again 10 campaigns of MOBO (GP+qLognehvi). The first 10 samples of a BO campaign are agains sampled randomly. The reference point is chosen via the workst performance of the original singleobjective random sampling, but BoFire is also able to infer it from the training data, if not provided."
   ]
  },
  {
   "cell_type": "markdown",
   "metadata": {},
   "source": [
    "#### Random sampling"
   ]
  },
  {
   "cell_type": "code",
   "execution_count": 11,
   "metadata": {},
   "outputs": [
    {
     "name": "stdout",
     "output_type": "stream",
     "text": [
      "{'resolution': 5.115904583102722, 'ctime': 69.68585862040379}\n"
     ]
    },
    {
     "name": "stderr",
     "output_type": "stream",
     "text": [
      "run 00 with current best 319.739: 100%|█████████████████████████████████████████████████████████████████| 25/25 [00:04<00:00,  5.64it/s]\n",
      "run 00 with current best 358.394: 100%|█████████████████████████████████████████████████████████████████| 25/25 [00:03<00:00,  6.33it/s]\n",
      "run 00 with current best 242.616: 100%|█████████████████████████████████████████████████████████████████| 25/25 [00:04<00:00,  6.20it/s]\n",
      "run 00 with current best 276.898: 100%|█████████████████████████████████████████████████████████████████| 25/25 [00:03<00:00,  6.38it/s]\n",
      "run 00 with current best 261.926: 100%|█████████████████████████████████████████████████████████████████| 25/25 [00:04<00:00,  6.19it/s]\n",
      "run 00 with current best 380.428: 100%|█████████████████████████████████████████████████████████████████| 25/25 [00:01<00:00, 23.23it/s]\n",
      "run 00 with current best 235.216: 100%|█████████████████████████████████████████████████████████████████| 25/25 [00:00<00:00, 25.47it/s]\n",
      "run 00 with current best 368.699: 100%|█████████████████████████████████████████████████████████████████| 25/25 [00:01<00:00, 21.98it/s]\n",
      "run 00 with current best 296.773: 100%|█████████████████████████████████████████████████████████████████| 25/25 [00:01<00:00, 24.43it/s]\n",
      "run 00 with current best 362.648: 100%|█████████████████████████████████████████████████████████████████| 25/25 [00:01<00:00, 24.83it/s]\n"
     ]
    }
   ],
   "source": [
    "ref_point={\"resolution\": min([i[0].resolution.min() for i in rresults]), \"ctime\": max([i[0].ctime.max() for i in rresults])}\n",
    "print(ref_point)\n",
    "\n",
    "\n",
    "def hypervolume(domain: Domain, experiments: pd.DataFrame) -> float:\n",
    "    return compute_hypervolume(\n",
    "        domain, experiments, ref_point=ref_point\n",
    "    )\n",
    "\n",
    "def sample(domain):\n",
    "    datamodel = RandomStrategy(domain=domain)\n",
    "    sampler = strategies.map(data_model=datamodel)\n",
    "    sampled = sampler.ask(10)\n",
    "    return sampled\n",
    "\n",
    "mo_rresults = []\n",
    "mo_rresults_alt = []\n",
    "\n",
    "for i in range(5):\n",
    "    results = random_results = run(\n",
    "        HPLC(n_gradients=4, multiobjective=True),\n",
    "        strategy_factory=lambda domain: strategies.map(RandomStrategy(domain=domain)),\n",
    "        n_iterations=25,\n",
    "        metric=hypervolume,\n",
    "        initial_sampler=sample,\n",
    "        n_runs=1,\n",
    "        n_procs=1,\n",
    "    )\n",
    "    mo_rresults.append(results[0])\n",
    "\n",
    "for i in range(5):\n",
    "    results = random_results = run(\n",
    "        HPLC_alt(n_gradients=4, multiobjective=True),\n",
    "        strategy_factory=lambda domain: strategies.map(RandomStrategy(domain=domain)),\n",
    "        n_iterations=25,\n",
    "        metric=hypervolume,\n",
    "        initial_sampler=sample,\n",
    "        n_runs=1,\n",
    "        n_procs=1,\n",
    "    )\n",
    "    mo_rresults_alt.append(results[0])"
   ]
  },
  {
   "cell_type": "markdown",
   "metadata": {},
   "source": [
    "#### Bayesian Optimization"
   ]
  },
  {
   "cell_type": "code",
   "execution_count": 12,
   "metadata": {},
   "outputs": [
    {
     "name": "stderr",
     "output_type": "stream",
     "text": [
      "run 00 with current best 401.992: 100%|█████████████████████████████████████████████████████████████████| 25/25 [08:10<00:00, 19.64s/it]\n",
      "run 00 with current best 457.553: 100%|█████████████████████████████████████████████████████████████████| 25/25 [09:22<00:00, 22.50s/it]\n",
      "run 00 with current best 446.433: 100%|█████████████████████████████████████████████████████████████████| 25/25 [09:34<00:00, 22.99s/it]\n",
      "run 00 with current best 430.869: 100%|█████████████████████████████████████████████████████████████████| 25/25 [12:55<00:00, 31.03s/it]\n",
      "run 00 with current best 474.216: 100%|█████████████████████████████████████████████████████████████████| 25/25 [09:12<00:00, 22.08s/it]\n",
      "run 00 with current best 439.258: 100%|█████████████████████████████████████████████████████████████████| 25/25 [03:24<00:00,  8.18s/it]\n",
      "run 00 with current best 448.396: 100%|█████████████████████████████████████████████████████████████████| 25/25 [04:54<00:00, 11.79s/it]\n",
      "run 00 with current best 446.077: 100%|█████████████████████████████████████████████████████████████████| 25/25 [03:53<00:00,  9.33s/it]\n",
      "run 00 with current best 428.894: 100%|█████████████████████████████████████████████████████████████████| 25/25 [03:54<00:00,  9.37s/it]\n",
      "run 00 with current best 437.099: 100%|█████████████████████████████████████████████████████████████████| 25/25 [03:04<00:00,  7.39s/it]\n"
     ]
    }
   ],
   "source": [
    "ref_point={\"resolution\": min([i[0].resolution.min() for i in rresults]), \"ctime\": max([i[0].ctime.max() for i in rresults])}\n",
    "\n",
    "def hypervolume(domain: Domain, experiments: pd.DataFrame) -> float:\n",
    "    return compute_hypervolume(\n",
    "        domain, experiments, ref_point=ref_point\n",
    "    )\n",
    "\n",
    "def sample(domain):\n",
    "    datamodel = RandomStrategy(domain=domain)\n",
    "    sampler = strategies.map(data_model=datamodel)\n",
    "    sampled = sampler.ask(10)\n",
    "    return sampled\n",
    "\n",
    "mo_sresults = []\n",
    "mo_sresults_alt = []\n",
    "\n",
    "for i in range(5):\n",
    "    results = random_results = run(\n",
    "        HPLC(n_gradients=4, multiobjective=True),\n",
    "        strategy_factory=lambda domain: strategies.map(MoboStrategy(domain=domain, ref_point=ref_point)),\n",
    "        n_iterations=25,\n",
    "        metric=hypervolume,\n",
    "        initial_sampler=sample,\n",
    "        n_runs=1,\n",
    "        n_procs=1,\n",
    "    )\n",
    "    mo_sresults.append(results[0])\n",
    "\n",
    "for i in range(5):\n",
    "    results = random_results = run(\n",
    "        HPLC_alt(n_gradients=4, multiobjective=True),\n",
    "        strategy_factory=lambda domain: strategies.map(MoboStrategy(domain=domain, ref_point=ref_point)),\n",
    "        n_iterations=25,\n",
    "        metric=hypervolume,\n",
    "        initial_sampler=sample,\n",
    "        n_runs=1,\n",
    "        n_procs=1,\n",
    "    )\n",
    "    mo_sresults_alt.append(results[0])"
   ]
  },
  {
   "cell_type": "code",
   "execution_count": null,
   "metadata": {},
   "outputs": [],
   "source": [
    "mo_rresults"
   ]
  },
  {
   "cell_type": "markdown",
   "metadata": {},
   "source": [
    "#### Plot the results\n",
    "##### Performance Comparison"
   ]
  },
  {
   "cell_type": "code",
   "execution_count": 13,
   "metadata": {},
   "outputs": [
    {
     "data": {
      "image/png": "[encoded data removed]",
      "text/plain": [
       "<Figure size 640x480 with 1 Axes>"
      ]
     },
     "metadata": {},
     "output_type": "display_data"
    }
   ],
   "source": [
    "fig, ax = plt.subplots()\n",
    "\n",
    "best_random = np.array([mo_rresults[i][1] for i in range(len(mo_rresults))])\n",
    "ax.plot(range(11, 36), best_random.mean(axis=0), color=\"blue\", label=\"random\")\n",
    "ax.fill_between(range(11, 36),(best_random.mean(0)-best_random.std(0)), (best_random.mean(0)+best_random.std(0)), alpha = 0.3, color = 'blue')\n",
    "\n",
    "best_random = np.array([mo_rresults_alt[i][1] for i in range(len(mo_rresults_alt))])\n",
    "ax.plot(range(11, 36), best_random.mean(axis=0), color=\"green\", label=\"random relative coordinate system\")\n",
    "ax.fill_between(range(11, 36),(best_random.mean(0)-best_random.std(0)), (best_random.mean(0)+best_random.std(0)), alpha = 0.3, color = 'green')\n",
    "\n",
    "best_sobo = np.array([mo_sresults[i][1] for i in range(len(mo_sresults))])\n",
    "ax.plot(range(11, 36),best_sobo.mean(axis=0), color=\"red\", label=\"bo\")\n",
    "ax.fill_between(range(11, 36),(best_sobo.mean(0)-best_sobo.std(0)), (best_sobo.mean(0)+best_sobo.std(0)), alpha = 0.3, color = 'red')\n",
    "\n",
    "best_sobo = np.array([mo_sresults_alt[i][1] for i in range(len(mo_sresults_alt))])\n",
    "ax.plot(range(11, 36),best_sobo.mean(axis=0), color=\"purple\", label=\"bo relative coordinate system\")\n",
    "ax.fill_between(range(11, 36),(best_sobo.mean(0)-best_sobo.std(0)), (best_sobo.mean(0)+best_sobo.std(0)), alpha = 0.3, color = 'purple')\n",
    "\n",
    "ax.set_xlabel(\"Iteration\")\n",
    "ax.set_ylabel(\"Hypervolume\")\n",
    "ax.legend()\n",
    "\n",
    "plt.show()"
   ]
  },
  {
   "cell_type": "markdown",
   "metadata": {},
   "source": [
    "##### Pareto Front"
   ]
  },
  {
   "cell_type": "code",
   "execution_count": null,
   "metadata": {},
   "outputs": [],
   "source": [
    "optimal = get_pareto_front(HPLC(n_gradients=4, multiobjective=True).domain,pd.concat([mo_rresults[-1][0], mo_sresults[-1][0]],axis=0))\n",
    "\n",
    "fig, ax = plt.subplots()\n",
    "\n",
    "ax.scatter(mo_rresults[-1][0].resolution,mo_rresults[-1][0].ctime*-1, color=\"blue\", label=\"random\")\n",
    "ax.scatter(mo_sresults[-1][0].resolution,mo_sresults[-1][0].ctime*-1, color=\"red\", label=\"bo\")\n",
    "ax.scatter(baseline_resolution, baseline_ctime*-1, color=\"green\", label=\"baseline\")\n",
    "ax.scatter(optimal.resolution,optimal.ctime*-1, color=\"black\", marker=\"x\", label=\"optimal\")\n",
    "\n",
    "ax.legend()\n",
    "\n",
    "ax.set_xlabel(\"Resolution\")\n",
    "ax.set_ylabel(\"Time\")\n",
    "\n",
    "#labels = [i for i in ax.get_yticklabels()]\n",
    "ax.set_yticks([-70, -60, -50, -40, -30, -20, -10])\n",
    "ax.set_yticklabels([\"70\", \"60\", \"50\", \"40\", \"30\", \"20\", \"10\"])\n",
    "\n",
    "plt.show()"
   ]
  },
  {
   "cell_type": "markdown",
   "metadata": {},
   "source": [
    "Here we show the six paretooptimal chromatograms together with their gradient profiles."
   ]
  },
  {
   "cell_type": "code",
   "execution_count": null,
   "metadata": {},
   "outputs": [],
   "source": [
    "for i, row in optimal.sort_values(by=\"ctime\").iterrows():\n",
    "    hplc.plot_chromatogram(row)"
   ]
  }
 ],
 "metadata": {
  "kernelspec": {
   "display_name": "Python 3 (ipykernel)",
   "language": "python",
   "name": "python3"
  },
  "language_info": {
   "codemirror_mode": {
    "name": "ipython",
    "version": 3
   },
   "file_extension": ".py",
   "mimetype": "text/x-python",
   "name": "python",
   "nbconvert_exporter": "python",
   "pygments_lexer": "ipython3",
   "version": "3.11.5"
  }
 },
 "nbformat": 4,
 "nbformat_minor": 4
}
