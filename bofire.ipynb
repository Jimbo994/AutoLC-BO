{
 "cells": [
  {
   "cell_type": "markdown",
   "metadata": {},
   "source": [
    "# Single-objective and Multi-objective Bayesian optimization for a retention modelling toy example\n",
    "\n",
    "In this tutorial, we illustrate how to implement the single-objective and multi-objective BO algorithms. It closely follows the toy retention modelling experiment shown in Section 4.5 of [Closed-loop automatic gradient design for liquid chromatography using Bayesian optimization](https://chemrxiv.org/engage/chemrxiv/article-details/62e2a383e7fc8f9e388caabc). \n",
    "\n",
    "Here we are using the [BoFire](https://github.com/experimental-design/bofire) library for the optimization:"
   ]
  },
  {
   "cell_type": "markdown",
   "metadata": {},
   "source": [
    "## Imports"
   ]
  },
  {
   "cell_type": "code",
   "execution_count": 1,
   "metadata": {},
   "outputs": [
    {
     "name": "stderr",
     "output_type": "stream",
     "text": [
      "/Users/jimboelrijk/opt/anaconda3/envs/bofire/lib/python3.11/site-packages/tqdm/auto.py:21: TqdmWarning: IProgress not found. Please update jupyter and ipywidgets. See https://ipywidgets.readthedocs.io/en/stable/user_install.html\n",
      "  from .autonotebook import tqdm as notebook_tqdm\n",
      "/Users/jimboelrijk/opt/anaconda3/envs/bofire/lib/python3.11/site-packages/bofire/surrogates/xgb.py:12: UserWarning: xgboost not installed, BoFire's `XGBoostSurrogate` cannot be used.\n",
      "  warnings.warn(\"xgboost not installed, BoFire's `XGBoostSurrogate` cannot be used.\")\n"
     ]
    }
   ],
   "source": [
    "import pandas as pd\n",
    "import numpy as np\n",
    "import matplotlib.pyplot as plt\n",
    "from typing import List, Tuple\n",
    "\n",
    "\n",
    "from rm_code.crf import capped_sum_of_resolutions\n",
    "from rm_code.retention_model import compute_chromatogram\n",
    "from rm_code.plot_chromatogram import plot_chromatogram\n",
    "\n",
    "\n",
    "from bofire.data_models.domain.api import Domain, Inputs, Outputs, Constraints\n",
    "from bofire.data_models.features.api import ContinuousInput, ContinuousOutput\n",
    "from bofire.data_models.constraints.api import LinearInequalityConstraint\n",
    "from bofire.benchmarks.api import Benchmark\n",
    "from bofire.data_models.objectives.api import MaximizeObjective, MinimizeObjective\n",
    "from bofire.data_models.strategies.api import RandomStrategy, SoboStrategy, MoboStrategy\n",
    "import bofire.strategies.api as strategies\n",
    "from bofire.runners.api import run\n",
    "from bofire.utils.multiobjective import compute_hypervolume, get_pareto_front\n",
    "\n"
   ]
  },
  {
   "cell_type": "code",
   "execution_count": 27,
   "metadata": {},
   "outputs": [],
   "source": [
    "class HPLC(Benchmark):\n",
    "\n",
    "    def __init__(self, n_gradients, multiobjective = False):\n",
    "        super().__init__(outlier_rate=0, outlier_prior=None)\n",
    "        self.n_gradients = n_gradients\n",
    "        outputs = [ContinuousOutput(key=\"resolution\", objective=MaximizeObjective())]\n",
    "        if multiobjective:\n",
    "            outputs.append(ContinuousOutput(key=\"ctime\", objective=MinimizeObjective()))\n",
    "        self._domain = Domain(\n",
    "            inputs=Inputs(\n",
    "                features=[ContinuousInput(key=f\"t_{i+1}\", bounds=(0.01, 59.9)) for i in range(n_gradients)]+[ContinuousInput(key=f\"phi_{i+1}\", bounds=(0.01, 1)) for i in range(n_gradients)]\n",
    "            ),\n",
    "            constraints=Constraints(\n",
    "                constraints=\n",
    "                    [LinearInequalityConstraint(features=[f\"t_{i+2}\",f\"t_{i+1}\"], coefficients=[-1.,1.], rhs=-0.01) for i in range(n_gradients-1)]+[LinearInequalityConstraint(features=[f\"phi_{i+2}\",f\"phi_{i+1}\"], coefficients=[-1.,1.], rhs=0) for i in range(n_gradients-1)],\n",
    "            ),\n",
    "            outputs=Outputs(\n",
    "                features=outputs,\n",
    "            )\n",
    "        )\n",
    "        \n",
    "        ret_pars = np.loadtxt('data/RetentionParams_Section4.5.txt') # retention parameters from example in Section 4.5\n",
    "        self.k0_list = np.exp(ret_pars[:,0])\n",
    "        self.S_list = ret_pars[:,1]\n",
    "        # Set some default parameters\n",
    "        self.t_0 = 0.8 # dead time \n",
    "        self.t_D = 0.8 # dwell time\n",
    "        self.N = 1000 # plate number\n",
    "        self.t_init = 0 # init time\n",
    "\n",
    "    @property\n",
    "    def ts(self) -> List[str]:\n",
    "        return [f\"t_{i+1}\"for i in range(self.n_gradients)]\n",
    "    \n",
    "    @property\n",
    "    def phis(self) -> List[str]:\n",
    "        return [f\"phi_{i+1}\"for i in range(self.n_gradients)]\n",
    "    \n",
    "    def plot_chromatogram(self, candidate:pd.Series):\n",
    "        phi_list_ms = [0.0] + candidate[self.phis].tolist() + [1.0]\n",
    "        t_list_ms = [0.0] + candidate[self.ts].tolist() + [60.0]\n",
    "        tR_list, W_list = compute_chromatogram(self.k0_list, self.S_list, self.t_0, self.t_D, self.t_init, phi_list_ms, t_list_ms, self.N)\n",
    "        score_lin = capped_sum_of_resolutions(tR_list, W_list, max_time=60, min_res=0, max_res=1.5)\n",
    "        # compute time score, i.e. time of last eluting peak.\n",
    "        time_score_lin = np.max(tR_list)\n",
    "        plot_chromatogram(tR_list, W_list, phi_list_ms, t_list_ms, self.t_D, self.t_0, self.t_init)\n",
    "        print(f\"resolution: {score_lin}\")\n",
    "        print(f\"time: {time_score_lin}\")\n",
    "        return score_lin, time_score_lin\n",
    "\n",
    "\n",
    "    def _f(self, candidates: pd.DataFrame) -> pd.DataFrame:\n",
    "        data = {\n",
    "            \"resolution\": [],\n",
    "            \"valid_resolution\": [],\n",
    "            \"ctime\": [],\n",
    "            \"valid_ctime\": [],\n",
    "        }\n",
    "        for i, row in candidates.iterrows():\n",
    "            phi_list_ms = [0.0] + row[self.phis].tolist() + [1.0]\n",
    "            t_list_ms = [0.0] + row[self.ts].tolist() + [60.0]\n",
    "            #print(phi_list_ms)\n",
    "            #print(t_list_ms)\n",
    "            tR_list, W_list = compute_chromatogram(self.k0_list, self.S_list, self.t_0, self.t_D, self.t_init, phi_list_ms, t_list_ms, self.N)\n",
    "            score_lin = capped_sum_of_resolutions(tR_list, W_list, max_time=60, min_res=0, max_res=1.5)\n",
    "            # compute time score, i.e. time of last eluting peak.\n",
    "            time_score_lin = np.max(tR_list)\n",
    "            data[\"resolution\"].append(score_lin)\n",
    "            data[\"valid_resolution\"].append(1)\n",
    "            data[\"ctime\"].append(time_score_lin)\n",
    "            data[\"valid_ctime\"].append(1)\n",
    "        return pd.DataFrame.from_dict(data=data)"
   ]
  },
  {
   "cell_type": "markdown",
   "metadata": {},
   "source": [
    "### Alternative Relative Coordinate system\n",
    "\n",
    "Attempting alternative coordinate system, in case you have 4 gradient nodes to position (8 degrees of freedom in total), you could setup all ts and phis as reduced ts_r and phis_r with ranges from 0 to 1. The time of the first gradient point would be just t_1 = lower_bound + t_1r * (upper_bound – lower_bound), the time of the second gradient would then be determined by the position of the first one and the upper bound: t_2 = t_1 + t_2r * (upper_bound – t1). This can then be applied for the timings of all gradients and for the phis."
   ]
  },
  {
   "cell_type": "code",
   "execution_count": 75,
   "metadata": {},
   "outputs": [],
   "source": [
    "class HPLC_alt(Benchmark):\n",
    "\n",
    "    def __init__(self, n_gradients, multiobjective = False):\n",
    "        super().__init__(outlier_rate=0, outlier_prior=None)\n",
    "        self.n_gradients = n_gradients\n",
    "        outputs = [ContinuousOutput(key=\"resolution\", objective=MaximizeObjective())]\n",
    "        if multiobjective:\n",
    "            outputs.append(ContinuousOutput(key=\"ctime\", objective=MinimizeObjective()))\n",
    "        self._domain = Domain(\n",
    "            inputs=Inputs(\n",
    "                features=[ContinuousInput(key=f\"t_{i+1}\", bounds=(0.01, 0.99)) for i in range(n_gradients)]+[ContinuousInput(key=f\"phi_{i+1}\", bounds=(0.01, 0.99)) for i in range(n_gradients)]\n",
    "            ),\n",
    "            # constraints=Constraints(\n",
    "            #     constraints=\n",
    "            #         [LinearInequalityConstraint(features=[f\"t_{i+2}\",f\"t_{i+1}\"], coefficients=[-1.,1.], rhs=-0.01) for i in range(n_gradients-1)]+[LinearInequalityConstraint(features=[f\"phi_{i+2}\",f\"phi_{i+1}\"], coefficients=[-1.,1.], rhs=0) for i in range(n_gradients-1)],\n",
    "            # ),\n",
    "            outputs=Outputs(\n",
    "                features=outputs,\n",
    "            )\n",
    "        )\n",
    "        \n",
    "        ret_pars = np.loadtxt('data/RetentionParams_Section4.5.txt') # retention parameters from example in Section 4.5\n",
    "        self.k0_list = np.exp(ret_pars[:,0])\n",
    "        self.S_list = ret_pars[:,1]\n",
    "        # Set some default parameters\n",
    "        self.t_0 = 0.8 # dead time \n",
    "        self.t_D = 0.8 # dwell time\n",
    "        self.N = 1000 # plate number\n",
    "        self.t_init = 0 # init time\n",
    "        self.max_time = 60 # max time\n",
    "\n",
    "    @property\n",
    "    def ts(self) -> List[str]:\n",
    "        return [f\"t_{i+1}\"for i in range(self.n_gradients)]\n",
    "    \n",
    "    @property\n",
    "    def phis(self) -> List[str]:\n",
    "        return [f\"phi_{i+1}\"for i in range(self.n_gradients)]\n",
    "    \n",
    "    def plot_chromatogram(self, candidate:pd.Series):\n",
    "        phis, ts = self.transform(candidate[self.phis].tolist(), candidate[self.ts].tolist())\n",
    "        phi_list_ms = [0.0] + phis + [1.0]\n",
    "        t_list_ms = [0.0] + ts + [60.0]      \n",
    "\n",
    "        print(t_list_ms, phi_list_ms)\n",
    "        tR_list, W_list = compute_chromatogram(self.k0_list, self.S_list, self.t_0, self.t_D, self.t_init, phi_list_ms, t_list_ms, self.N)\n",
    "        score_lin = capped_sum_of_resolutions(tR_list, W_list, max_time=60, min_res=0, max_res=1.5)\n",
    "        # compute time score, i.e. time of last eluting peak.\n",
    "        time_score_lin = np.max(tR_list)\n",
    "        plot_chromatogram(tR_list, W_list, phi_list_ms, t_list_ms, self.t_D, self.t_0, self.t_init)\n",
    "        print(f\"resolution: {score_lin}\")\n",
    "        print(f\"time: {time_score_lin}\")\n",
    "        return score_lin, time_score_lin\n",
    "\n",
    "    def transform(self, phis_r: List[float], ts_r: List[float]) -> [List[float], List[float]]:\n",
    "        lower_bound_t = 0\n",
    "        upper_bound_t = 1\n",
    "        lower_bound_phi = 0\n",
    "        upper_bound_phi = 1\n",
    "        ts = []\n",
    "        phis = []\n",
    "        for phi_r, t_r in zip(phis_r, ts_r):\n",
    "            t = lower_bound_t + (t_r * (upper_bound_t - lower_bound_t))\n",
    "            lower_bound_t = t\n",
    "            ts.append(t)\n",
    "            phi = lower_bound_phi + (phi_r * (upper_bound_phi - lower_bound_phi))\n",
    "            phis.append(phi)\n",
    "            lower_bound_phi =phi\n",
    "\n",
    "        # RM code does not like similar timepoints, will cause a divide by zero.\n",
    "        for i in range(len(ts) - 1):\n",
    "            if ts[i + 1] - ts[i] < 0.01:\n",
    "                for j in range(i + 1, len(ts)):\n",
    "                    ts[j] = ts[j] + 0.01\n",
    "\n",
    "        return phis, [t * self.max_time for t in ts]\n",
    "        \n",
    "    \n",
    "    def _f(self, candidates: pd.DataFrame) -> pd.DataFrame:\n",
    "        data = {\n",
    "            \"resolution\": [],\n",
    "            \"valid_resolution\": [],\n",
    "            \"ctime\": [],\n",
    "            \"valid_ctime\": [],\n",
    "        }\n",
    "        for i, row in candidates.iterrows():\n",
    "            phis, ts = self.transform(row[self.phis].tolist(), row[self.ts].tolist())\n",
    "            phi_list_ms = [0.0] + phis + [1.0]\n",
    "            t_list_ms = [0.0] + ts + [60.0]      \n",
    "            \n",
    "            # print(phi_list_ms)\n",
    "            # print(t_list_ms)\n",
    "            tR_list, W_list = compute_chromatogram(self.k0_list, self.S_list, self.t_0, self.t_D, self.t_init, phi_list_ms, t_list_ms, self.N)\n",
    "            score_lin = capped_sum_of_resolutions(tR_list, W_list, max_time=60, min_res=0, max_res=1.5)\n",
    "            # compute time score, i.e. time of last eluting peak.\n",
    "            time_score_lin = np.max(tR_list)\n",
    "            data[\"resolution\"].append(score_lin)\n",
    "            data[\"valid_resolution\"].append(1)\n",
    "            data[\"ctime\"].append(time_score_lin)\n",
    "            data[\"valid_ctime\"].append(1)\n",
    "        return pd.DataFrame.from_dict(data=data)\n"
   ]
  },
  {
   "cell_type": "markdown",
   "metadata": {},
   "source": [
    "## Perform random sampling to show that constraints are accepted."
   ]
  },
  {
   "cell_type": "code",
   "execution_count": 80,
   "metadata": {},
   "outputs": [
    {
     "data": {
      "text/html": [
       "<div>\n",
       "<style scoped>\n",
       "    .dataframe tbody tr th:only-of-type {\n",
       "        vertical-align: middle;\n",
       "    }\n",
       "\n",
       "    .dataframe tbody tr th {\n",
       "        vertical-align: top;\n",
       "    }\n",
       "\n",
       "    .dataframe thead th {\n",
       "        text-align: right;\n",
       "    }\n",
       "</style>\n",
       "<table border=\"1\" class=\"dataframe\">\n",
       "  <thead>\n",
       "    <tr style=\"text-align: right;\">\n",
       "      <th></th>\n",
       "      <th>phi_1</th>\n",
       "      <th>phi_2</th>\n",
       "      <th>phi_3</th>\n",
       "      <th>phi_4</th>\n",
       "      <th>t_1</th>\n",
       "      <th>t_2</th>\n",
       "      <th>t_3</th>\n",
       "      <th>t_4</th>\n",
       "      <th>resolution</th>\n",
       "      <th>valid_resolution</th>\n",
       "      <th>ctime</th>\n",
       "      <th>valid_ctime</th>\n",
       "    </tr>\n",
       "  </thead>\n",
       "  <tbody>\n",
       "    <tr>\n",
       "      <th>0</th>\n",
       "      <td>0.827182</td>\n",
       "      <td>0.176433</td>\n",
       "      <td>0.047486</td>\n",
       "      <td>0.368238</td>\n",
       "      <td>0.489581</td>\n",
       "      <td>0.769864</td>\n",
       "      <td>0.251683</td>\n",
       "      <td>0.406656</td>\n",
       "      <td>12.882466</td>\n",
       "      <td>1</td>\n",
       "      <td>50.958135</td>\n",
       "      <td>1</td>\n",
       "    </tr>\n",
       "    <tr>\n",
       "      <th>1</th>\n",
       "      <td>0.120225</td>\n",
       "      <td>0.802031</td>\n",
       "      <td>0.055111</td>\n",
       "      <td>0.938640</td>\n",
       "      <td>0.189442</td>\n",
       "      <td>0.926826</td>\n",
       "      <td>0.938538</td>\n",
       "      <td>0.586519</td>\n",
       "      <td>8.895547</td>\n",
       "      <td>1</td>\n",
       "      <td>65.927543</td>\n",
       "      <td>1</td>\n",
       "    </tr>\n",
       "    <tr>\n",
       "      <th>2</th>\n",
       "      <td>0.301246</td>\n",
       "      <td>0.822149</td>\n",
       "      <td>0.914842</td>\n",
       "      <td>0.652782</td>\n",
       "      <td>0.708216</td>\n",
       "      <td>0.124670</td>\n",
       "      <td>0.935947</td>\n",
       "      <td>0.778993</td>\n",
       "      <td>12.185555</td>\n",
       "      <td>1</td>\n",
       "      <td>58.923733</td>\n",
       "      <td>1</td>\n",
       "    </tr>\n",
       "    <tr>\n",
       "      <th>3</th>\n",
       "      <td>0.555444</td>\n",
       "      <td>0.225796</td>\n",
       "      <td>0.961184</td>\n",
       "      <td>0.306364</td>\n",
       "      <td>0.140402</td>\n",
       "      <td>0.862721</td>\n",
       "      <td>0.227888</td>\n",
       "      <td>0.383318</td>\n",
       "      <td>12.099054</td>\n",
       "      <td>1</td>\n",
       "      <td>60.855417</td>\n",
       "      <td>1</td>\n",
       "    </tr>\n",
       "    <tr>\n",
       "      <th>4</th>\n",
       "      <td>0.682976</td>\n",
       "      <td>0.587560</td>\n",
       "      <td>0.043096</td>\n",
       "      <td>0.410027</td>\n",
       "      <td>0.043271</td>\n",
       "      <td>0.286102</td>\n",
       "      <td>0.161412</td>\n",
       "      <td>0.917606</td>\n",
       "      <td>10.990216</td>\n",
       "      <td>1</td>\n",
       "      <td>30.938572</td>\n",
       "      <td>1</td>\n",
       "    </tr>\n",
       "  </tbody>\n",
       "</table>\n",
       "</div>"
      ],
      "text/plain": [
       "      phi_1     phi_2     phi_3     phi_4       t_1       t_2       t_3  \\\n",
       "0  0.827182  0.176433  0.047486  0.368238  0.489581  0.769864  0.251683   \n",
       "1  0.120225  0.802031  0.055111  0.938640  0.189442  0.926826  0.938538   \n",
       "2  0.301246  0.822149  0.914842  0.652782  0.708216  0.124670  0.935947   \n",
       "3  0.555444  0.225796  0.961184  0.306364  0.140402  0.862721  0.227888   \n",
       "4  0.682976  0.587560  0.043096  0.410027  0.043271  0.286102  0.161412   \n",
       "\n",
       "        t_4  resolution  valid_resolution      ctime  valid_ctime  \n",
       "0  0.406656   12.882466                 1  50.958135            1  \n",
       "1  0.586519    8.895547                 1  65.927543            1  \n",
       "2  0.778993   12.185555                 1  58.923733            1  \n",
       "3  0.383318   12.099054                 1  60.855417            1  \n",
       "4  0.917606   10.990216                 1  30.938572            1  "
      ]
     },
     "metadata": {},
     "output_type": "display_data"
    }
   ],
   "source": [
    "hplc_alt = HPLC_alt(n_gradients=4)\n",
    "\n",
    "strategy_data = RandomStrategy(domain=hplc_alt.domain)\n",
    "sampler = strategies.map(strategy_data)\n",
    "candidates = sampler.ask(5)\n",
    "experiments = hplc_alt.f(candidates=candidates, return_complete=True)\n",
    "display(experiments)"
   ]
  },
  {
   "cell_type": "markdown",
   "metadata": {},
   "source": [
    "## Perform random sampling to show that constraints are accepted."
   ]
  },
  {
   "cell_type": "code",
   "execution_count": 81,
   "metadata": {},
   "outputs": [
    {
     "data": {
      "text/html": [
       "<div>\n",
       "<style scoped>\n",
       "    .dataframe tbody tr th:only-of-type {\n",
       "        vertical-align: middle;\n",
       "    }\n",
       "\n",
       "    .dataframe tbody tr th {\n",
       "        vertical-align: top;\n",
       "    }\n",
       "\n",
       "    .dataframe thead th {\n",
       "        text-align: right;\n",
       "    }\n",
       "</style>\n",
       "<table border=\"1\" class=\"dataframe\">\n",
       "  <thead>\n",
       "    <tr style=\"text-align: right;\">\n",
       "      <th></th>\n",
       "      <th>phi_1</th>\n",
       "      <th>phi_2</th>\n",
       "      <th>phi_3</th>\n",
       "      <th>phi_4</th>\n",
       "      <th>t_1</th>\n",
       "      <th>t_2</th>\n",
       "      <th>t_3</th>\n",
       "      <th>t_4</th>\n",
       "      <th>resolution</th>\n",
       "      <th>valid_resolution</th>\n",
       "      <th>ctime</th>\n",
       "      <th>valid_ctime</th>\n",
       "    </tr>\n",
       "  </thead>\n",
       "  <tbody>\n",
       "    <tr>\n",
       "      <th>0</th>\n",
       "      <td>0.399266</td>\n",
       "      <td>0.611223</td>\n",
       "      <td>0.818326</td>\n",
       "      <td>0.920101</td>\n",
       "      <td>24.027721</td>\n",
       "      <td>31.723141</td>\n",
       "      <td>32.118410</td>\n",
       "      <td>44.704480</td>\n",
       "      <td>12.559709</td>\n",
       "      <td>1</td>\n",
       "      <td>50.172250</td>\n",
       "      <td>1</td>\n",
       "    </tr>\n",
       "    <tr>\n",
       "      <th>1</th>\n",
       "      <td>0.028144</td>\n",
       "      <td>0.063306</td>\n",
       "      <td>0.302554</td>\n",
       "      <td>0.539547</td>\n",
       "      <td>2.958935</td>\n",
       "      <td>33.955204</td>\n",
       "      <td>40.486797</td>\n",
       "      <td>48.016454</td>\n",
       "      <td>7.806258</td>\n",
       "      <td>1</td>\n",
       "      <td>65.913878</td>\n",
       "      <td>1</td>\n",
       "    </tr>\n",
       "    <tr>\n",
       "      <th>2</th>\n",
       "      <td>0.019281</td>\n",
       "      <td>0.293427</td>\n",
       "      <td>0.403945</td>\n",
       "      <td>0.483135</td>\n",
       "      <td>14.237077</td>\n",
       "      <td>32.222386</td>\n",
       "      <td>35.254138</td>\n",
       "      <td>48.715366</td>\n",
       "      <td>7.798876</td>\n",
       "      <td>1</td>\n",
       "      <td>66.243287</td>\n",
       "      <td>1</td>\n",
       "    </tr>\n",
       "    <tr>\n",
       "      <th>3</th>\n",
       "      <td>0.226030</td>\n",
       "      <td>0.327853</td>\n",
       "      <td>0.420438</td>\n",
       "      <td>0.482411</td>\n",
       "      <td>13.878148</td>\n",
       "      <td>24.231655</td>\n",
       "      <td>36.990466</td>\n",
       "      <td>49.198114</td>\n",
       "      <td>8.001205</td>\n",
       "      <td>1</td>\n",
       "      <td>66.179068</td>\n",
       "      <td>1</td>\n",
       "    </tr>\n",
       "    <tr>\n",
       "      <th>4</th>\n",
       "      <td>0.180979</td>\n",
       "      <td>0.435504</td>\n",
       "      <td>0.491831</td>\n",
       "      <td>0.673009</td>\n",
       "      <td>10.346447</td>\n",
       "      <td>17.716038</td>\n",
       "      <td>44.318734</td>\n",
       "      <td>57.044332</td>\n",
       "      <td>8.322746</td>\n",
       "      <td>1</td>\n",
       "      <td>66.920368</td>\n",
       "      <td>1</td>\n",
       "    </tr>\n",
       "  </tbody>\n",
       "</table>\n",
       "</div>"
      ],
      "text/plain": [
       "      phi_1     phi_2     phi_3     phi_4        t_1        t_2        t_3  \\\n",
       "0  0.399266  0.611223  0.818326  0.920101  24.027721  31.723141  32.118410   \n",
       "1  0.028144  0.063306  0.302554  0.539547   2.958935  33.955204  40.486797   \n",
       "2  0.019281  0.293427  0.403945  0.483135  14.237077  32.222386  35.254138   \n",
       "3  0.226030  0.327853  0.420438  0.482411  13.878148  24.231655  36.990466   \n",
       "4  0.180979  0.435504  0.491831  0.673009  10.346447  17.716038  44.318734   \n",
       "\n",
       "         t_4  resolution  valid_resolution      ctime  valid_ctime  \n",
       "0  44.704480   12.559709                 1  50.172250            1  \n",
       "1  48.016454    7.806258                 1  65.913878            1  \n",
       "2  48.715366    7.798876                 1  66.243287            1  \n",
       "3  49.198114    8.001205                 1  66.179068            1  \n",
       "4  57.044332    8.322746                 1  66.920368            1  "
      ]
     },
     "metadata": {},
     "output_type": "display_data"
    }
   ],
   "source": [
    "hplc = HPLC(n_gradients=4)\n",
    "\n",
    "strategy_data = RandomStrategy(domain=hplc.domain)\n",
    "sampler = strategies.map(strategy_data)\n",
    "candidates = sampler.ask(5)\n",
    "experiments = hplc.f(candidates=candidates, return_complete=True)\n",
    "display(experiments)"
   ]
  },
  {
   "cell_type": "markdown",
   "metadata": {},
   "source": [
    "## Handpicked gradient program to serve as baseline"
   ]
  },
  {
   "cell_type": "code",
   "execution_count": 82,
   "metadata": {},
   "outputs": [
    {
     "data": {
      "image/png": "[encoded data removed]",
      "text/plain": [
       "<Figure size 640x480 with 2 Axes>"
      ]
     },
     "metadata": {},
     "output_type": "display_data"
    },
    {
     "name": "stdout",
     "output_type": "stream",
     "text": [
      "resolution: 12.730314412317586\n",
      "time: 30.402499679605615\n"
     ]
    }
   ],
   "source": [
    "# plot baseline\n",
    "hplc = HPLC(n_gradients=4)\n",
    "baseline = pd.Series(\n",
    "    data = {\n",
    "        \"phi_1\": 0.18,\n",
    "        \"phi_2\": 0.25,\n",
    "        \"phi_3\": 0.8,\n",
    "        \"phi_4\": 1.,\n",
    "        \"t_1\": 0.1,\n",
    "        \"t_2\": 13,\n",
    "        \"t_3\": 13.1,\n",
    "        \"t_4\": 30.\n",
    "    }\n",
    ")\n",
    "baseline_resolution, baseline_ctime = hplc.plot_chromatogram(baseline)"
   ]
  },
  {
   "cell_type": "markdown",
   "metadata": {},
   "source": [
    "## Optimization"
   ]
  },
  {
   "cell_type": "markdown",
   "metadata": {},
   "source": [
    "### Singleobjective Optimization\n",
    "\n",
    "Here we run a singeobjective optimization in which we want to maximize *just* the resolution. We run 10 campaigns of random sampling, consisting each of 35 samples and again 10 campaigns of BO (GP+qLognei). The first 10 samples of a BO campaign are agains sampled randomly."
   ]
  },
  {
   "cell_type": "markdown",
   "metadata": {},
   "source": [
    "#### Random Sampling"
   ]
  },
  {
   "cell_type": "code",
   "execution_count": 83,
   "metadata": {},
   "outputs": [
    {
     "name": "stderr",
     "output_type": "stream",
     "text": [
      "run 00 with current best 12.858: 100%|██████████████████████████████████████████████████████████████████| 20/20 [00:03<00:00,  5.68it/s]\n",
      "run 00 with current best 12.923: 100%|██████████████████████████████████████████████████████████████████| 20/20 [00:03<00:00,  5.63it/s]\n",
      "run 00 with current best 12.889: 100%|██████████████████████████████████████████████████████████████████| 20/20 [00:04<00:00,  4.81it/s]\n",
      "run 00 with current best 12.891: 100%|██████████████████████████████████████████████████████████████████| 20/20 [00:04<00:00,  4.75it/s]\n",
      "run 00 with current best 12.839: 100%|██████████████████████████████████████████████████████████████████| 20/20 [00:03<00:00,  5.10it/s]\n",
      "run 00 with current best 13.010: 100%|██████████████████████████████████████████████████████████████████| 20/20 [00:03<00:00,  5.72it/s]\n"
     ]
    }
   ],
   "source": [
    "def sample(domain):\n",
    "    datamodel = RandomStrategy(domain=domain)\n",
    "    sampler = strategies.map(data_model=datamodel)\n",
    "    sampled = sampler.ask(10)\n",
    "    return sampled\n",
    "\n",
    "def best(domain: Domain, experiments: pd.DataFrame) -> float:\n",
    "    return experiments.resolution.max()\n",
    "\n",
    "rresults = []\n",
    "rresults_alt = []\n",
    "hplc = HPLC(n_gradients=4)\n",
    "hplc_alt = HPLC(n_gradients=4)\n",
    "\n",
    "for i in range(3):\n",
    "    results = random_results = run(\n",
    "        hplc,\n",
    "        strategy_factory=lambda domain: strategies.map(RandomStrategy(domain=hplc.domain)),\n",
    "        n_iterations=20,\n",
    "        metric=best,\n",
    "        initial_sampler=sample,\n",
    "        n_runs=1,\n",
    "        n_procs=1,\n",
    "    )\n",
    "    rresults.append(results[0])\n",
    "\n",
    "for i in range(3):\n",
    "    results = random_results = run(\n",
    "        hplc_alt,\n",
    "        strategy_factory=lambda domain: strategies.map(RandomStrategy(domain=hplc_alt.domain)),\n",
    "        n_iterations=20,\n",
    "        metric=best,\n",
    "        initial_sampler=sample,\n",
    "        n_runs=1,\n",
    "        n_procs=1,\n",
    "    )\n",
    "    rresults_alt.append(results[0])"
   ]
  },
  {
   "cell_type": "markdown",
   "metadata": {},
   "source": [
    "#### Bayesian Optimization"
   ]
  },
  {
   "cell_type": "code",
   "execution_count": 84,
   "metadata": {},
   "outputs": [
    {
     "name": "stderr",
     "output_type": "stream",
     "text": [
      "run 00 with current best 13.834: 100%|██████████████████████████████████████████████████████████████████| 20/20 [02:31<00:00,  7.56s/it]\n",
      "run 00 with current best 13.171: 100%|██████████████████████████████████████████████████████████████████| 20/20 [02:23<00:00,  7.20s/it]\n",
      "run 00 with current best 12.918: 100%|██████████████████████████████████████████████████████████████████| 20/20 [02:11<00:00,  6.58s/it]\n"
     ]
    }
   ],
   "source": [
    "def sample(domain):\n",
    "    datamodel = RandomStrategy(domain=domain)\n",
    "    sampler = strategies.map(data_model=datamodel)\n",
    "    sampled = sampler.ask(10)\n",
    "    return sampled\n",
    "\n",
    "def best(domain: Domain, experiments: pd.DataFrame) -> float:\n",
    "    return experiments.resolution.max()\n",
    "\n",
    "\n",
    "sresults = []\n",
    "\n",
    "for i in range(3):\n",
    "    results = random_results = run(\n",
    "        hplc,\n",
    "        strategy_factory=lambda domain: strategies.map(SoboStrategy(domain=domain)),\n",
    "        n_iterations=20,\n",
    "        metric=best,\n",
    "        initial_sampler=sample,\n",
    "        n_runs=1,\n",
    "        n_procs=1,\n",
    "    )\n",
    "    sresults.append(results[0])\n",
    "\n"
   ]
  },
  {
   "cell_type": "code",
   "execution_count": 85,
   "metadata": {},
   "outputs": [
    {
     "name": "stderr",
     "output_type": "stream",
     "text": [
      "run 00 with current best 12.970: 100%|██████████████████████████████████████████████████████████████████| 20/20 [02:13<00:00,  6.65s/it]\n",
      "run 00 with current best 13.144: 100%|██████████████████████████████████████████████████████████████████| 20/20 [02:07<00:00,  6.39s/it]\n",
      "run 00 with current best 14.877: 100%|██████████████████████████████████████████████████████████████████| 20/20 [02:17<00:00,  6.89s/it]\n"
     ]
    }
   ],
   "source": [
    "sresults_alt = []\n",
    "\n",
    "for i in range(3):\n",
    "    results = random_results = run(\n",
    "        hplc_alt,\n",
    "        strategy_factory=lambda domain: strategies.map(SoboStrategy(domain=domain)),\n",
    "        n_iterations=20,\n",
    "        metric=best,\n",
    "        initial_sampler=sample,\n",
    "        n_runs=1,\n",
    "        n_procs=1,\n",
    "    )\n",
    "    sresults_alt.append(results[0])"
   ]
  },
  {
   "cell_type": "markdown",
   "metadata": {},
   "source": [
    "#### Plot the results\n",
    "\n",
    "Here we plot the results averaged over the 10 independent runs per optimizer (random vs BO). Note that we only show in the graph the results starting from iteration 11 in which we switched in the BO case from random sampling to BO."
   ]
  },
  {
   "cell_type": "code",
   "execution_count": 88,
   "metadata": {},
   "outputs": [
    {
     "data": {
      "image/png": "[encoded data removed]",
      "text/plain": [
       "<Figure size 640x480 with 1 Axes>"
      ]
     },
     "metadata": {},
     "output_type": "display_data"
    }
   ],
   "source": [
    "fig, ax = plt.subplots()\n",
    "\n",
    "best_random = np.array([rresults[i][1] for i in range(len(rresults))])\n",
    "ax.plot(range(11, 31), best_random.mean(axis=0), color=\"blue\", label=\"random\")\n",
    "ax.fill_between(range(11, 31),(best_random.mean(0)-best_random.std(0)), (best_random.mean(0)+best_random.std(0)), alpha = 0.3, color = 'blue')\n",
    "\n",
    "best_random_alt = np.array([rresults_alt[i][1] for i in range(len(rresults_alt))])\n",
    "ax.plot(range(11, 31), best_random_alt.mean(axis=0), color=\"blue\", label=\"random relative coordinate system\")\n",
    "ax.fill_between(range(11, 31),(best_random_alt.mean(0)-best_random_alt.std(0)), (best_random_alt.mean(0)+best_random_alt.std(0)), alpha = 0.3, color = 'green')\n",
    "\n",
    "best_sobo = np.array([sresults[i][1] for i in range(len(sresults))])\n",
    "ax.plot(range(11, 31), best_sobo.mean(axis=0), color=\"red\", label=\"bo\")\n",
    "ax.fill_between(range(11, 31),(best_sobo.mean(0)-best_sobo.std(0)), (best_sobo.mean(0)+best_sobo.std(0)), alpha = 0.3, color = 'red')\n",
    "\n",
    "best_sobo_alt = np.array([sresults_alt[i][1] for i in range(len(sresults_alt))])\n",
    "ax.plot(range(11, 31), best_sobo_alt.mean(axis=0), color=\"red\", label=\"bo relative coordinate system\")\n",
    "ax.fill_between(range(11, 31),(best_sobo_alt.mean(0)-best_sobo_alt.std(0)), (best_sobo_alt.mean(0)+best_sobo_alt.std(0)), alpha = 0.3, color = 'red')\n",
    "\n",
    "ax.axhline(baseline_resolution, color=\"black\", label=\"baseline\")\n",
    "\n",
    "ax.set_xlabel(\"Iteration\")\n",
    "ax.set_ylabel(\"Resolution\")\n",
    "ax.legend()\n",
    "\n",
    "plt.show()"
   ]
  },
  {
   "cell_type": "markdown",
   "metadata": {},
   "source": [
    "### Multiobjective Optimization\n",
    "\n",
    "Here we run a multiobjective optimization in which we want to maximize the resolution and minimize the needed time. We run 10 campaigns of random sampling, consisting each of 35 samples and again 10 campaigns of MOBO (GP+qLognehvi). The first 10 samples of a BO campaign are agains sampled randomly. The reference point is chosen via the workst performance of the original singleobjective random sampling, but BoFire is also able to infer it from the training data, if not provided."
   ]
  },
  {
   "cell_type": "markdown",
   "metadata": {},
   "source": [
    "#### Random sampling"
   ]
  },
  {
   "cell_type": "code",
   "execution_count": 89,
   "metadata": {},
   "outputs": [
    {
     "name": "stdout",
     "output_type": "stream",
     "text": [
      "{'resolution': 2.169761970480797, 'ctime': 69.64790168283322}\n"
     ]
    },
    {
     "name": "stderr",
     "output_type": "stream",
     "text": [
      "run 00 with current best 423.459: 100%|█████████████████████████████████████████████████████████████████| 20/20 [00:03<00:00,  5.37it/s]\n",
      "run 00 with current best 518.946: 100%|█████████████████████████████████████████████████████████████████| 20/20 [00:04<00:00,  4.98it/s]\n",
      "run 00 with current best 323.134: 100%|█████████████████████████████████████████████████████████████████| 20/20 [00:04<00:00,  4.66it/s]\n",
      "run 00 with current best 346.941: 100%|█████████████████████████████████████████████████████████████████| 20/20 [00:04<00:00,  4.94it/s]\n",
      "run 00 with current best 323.134: 100%|█████████████████████████████████████████████████████████████████| 20/20 [00:03<00:00,  5.36it/s]\n",
      "run 00 with current best 506.825: 100%|█████████████████████████████████████████████████████████████████| 20/20 [00:00<00:00, 21.44it/s]\n",
      "run 00 with current best 544.010: 100%|█████████████████████████████████████████████████████████████████| 20/20 [00:00<00:00, 22.61it/s]\n",
      "run 00 with current best 568.266: 100%|█████████████████████████████████████████████████████████████████| 20/20 [00:00<00:00, 22.66it/s]\n",
      "run 00 with current best 479.308: 100%|█████████████████████████████████████████████████████████████████| 20/20 [00:00<00:00, 22.88it/s]\n",
      "run 00 with current best 572.034: 100%|█████████████████████████████████████████████████████████████████| 20/20 [00:00<00:00, 22.26it/s]\n"
     ]
    }
   ],
   "source": [
    "ref_point={\"resolution\": min([i[0].resolution.min() for i in rresults]), \"ctime\": max([i[0].ctime.max() for i in rresults])}\n",
    "print(ref_point)\n",
    "\n",
    "\n",
    "def hypervolume(domain: Domain, experiments: pd.DataFrame) -> float:\n",
    "    return compute_hypervolume(\n",
    "        domain, experiments, ref_point=ref_point\n",
    "    )\n",
    "\n",
    "def sample(domain):\n",
    "    datamodel = RandomStrategy(domain=domain)\n",
    "    sampler = strategies.map(data_model=datamodel)\n",
    "    sampled = sampler.ask(10)\n",
    "    return sampled\n",
    "\n",
    "mo_rresults = []\n",
    "mo_rresults_alt = []\n",
    "\n",
    "for i in range(5):\n",
    "    results = random_results = run(\n",
    "        HPLC(n_gradients=4, multiobjective=True),\n",
    "        strategy_factory=lambda domain: strategies.map(RandomStrategy(domain=domain)),\n",
    "        n_iterations=20,\n",
    "        metric=hypervolume,\n",
    "        initial_sampler=sample,\n",
    "        n_runs=1,\n",
    "        n_procs=1,\n",
    "    )\n",
    "    mo_rresults.append(results[0])\n",
    "\n",
    "for i in range(5):\n",
    "    results = random_results = run(\n",
    "        HPLC_alt(n_gradients=4, multiobjective=True),\n",
    "        strategy_factory=lambda domain: strategies.map(RandomStrategy(domain=domain)),\n",
    "        n_iterations=20,\n",
    "        metric=hypervolume,\n",
    "        initial_sampler=sample,\n",
    "        n_runs=1,\n",
    "        n_procs=1,\n",
    "    )\n",
    "    mo_rresults_alt.append(results[0])"
   ]
  },
  {
   "cell_type": "markdown",
   "metadata": {},
   "source": [
    "#### Bayesian Optimization"
   ]
  },
  {
   "cell_type": "code",
   "execution_count": null,
   "metadata": {},
   "outputs": [
    {
     "name": "stderr",
     "output_type": "stream",
     "text": [
      "run 00 with current best 331.910:  25%|████████████████▌                                                 | 5/20 [01:21<04:12, 16.82s/it]"
     ]
    }
   ],
   "source": [
    "ref_point={\"resolution\": min([i[0].resolution.min() for i in rresults]), \"ctime\": max([i[0].ctime.max() for i in rresults])}\n",
    "\n",
    "def hypervolume(domain: Domain, experiments: pd.DataFrame) -> float:\n",
    "    return compute_hypervolume(\n",
    "        domain, experiments, ref_point=ref_point\n",
    "    )\n",
    "\n",
    "def sample(domain):\n",
    "    datamodel = RandomStrategy(domain=domain)\n",
    "    sampler = strategies.map(data_model=datamodel)\n",
    "    sampled = sampler.ask(10)\n",
    "    return sampled\n",
    "\n",
    "mo_sresults = []\n",
    "mo_rresults = []\n",
    "\n",
    "for i in range(3):\n",
    "    results = random_results = run(\n",
    "        HPLC(n_gradients=4, multiobjective=True),\n",
    "        strategy_factory=lambda domain: strategies.map(MoboStrategy(domain=domain, ref_point=ref_point)),\n",
    "        n_iterations=20,\n",
    "        metric=hypervolume,\n",
    "        initial_sampler=sample,\n",
    "        n_runs=1,\n",
    "        n_procs=1,\n",
    "    )\n",
    "    mo_sresults.append(results[0])\n",
    "\n",
    "for i in range(3):\n",
    "    results = random_results = run(\n",
    "        HPLC_alt(n_gradients=4, multiobjective=True),\n",
    "        strategy_factory=lambda domain: strategies.map(MoboStrategy(domain=domain, ref_point=ref_point)),\n",
    "        n_iterations=20,\n",
    "        metric=hypervolume,\n",
    "        initial_sampler=sample,\n",
    "        n_runs=1,\n",
    "        n_procs=1,\n",
    "    )\n",
    "    mo_sresults.append(results[0])"
   ]
  },
  {
   "cell_type": "markdown",
   "metadata": {},
   "source": [
    "#### Plot the results\n",
    "##### Performance Comparison"
   ]
  },
  {
   "cell_type": "code",
   "execution_count": null,
   "metadata": {},
   "outputs": [],
   "source": [
    "fig, ax = plt.subplots()\n",
    "\n",
    "best_random = np.array([mo_rresults[i][1] for i in range(len(mo_rresults))])\n",
    "ax.plot(range(11, 31), best_random.mean(axis=0), color=\"blue\", label=\"random\")\n",
    "ax.fill_between(range(11, 31),(best_random.mean(0)-best_random.std(0)), (best_random.mean(0)+best_random.std(0)), alpha = 0.3, color = 'blue')\n",
    "\n",
    "best_random = np.array([mo_rresults_alt[i][1] for i in range(len(mo_rresults_alt))])\n",
    "ax.plot(range(11, 31), best_random.mean(axis=0), color=\"blue\", label=\"random relative coordinate system\")\n",
    "ax.fill_between(range(11, 31),(best_random.mean(0)-best_random.std(0)), (best_random.mean(0)+best_random.std(0)), alpha = 0.3, color = 'blue')\n",
    "\n",
    "best_sobo = np.array([mo_sresults[i][1] for i in range(len(mo_sresults))])\n",
    "ax.plot(range(11, 31),best_sobo.mean(axis=0), color=\"red\", label=\"bo\")\n",
    "ax.fill_between(range(11, 31),(best_sobo.mean(0)-best_sobo.std(0)), (best_sobo.mean(0)+best_sobo.std(0)), alpha = 0.3, color = 'red')\n",
    "\n",
    "best_sobo = np.array([mo_sresults_alt[i][1] for i in range(len(mo_sresults_alt))])\n",
    "ax.plot(range(11, 31),best_sobo.mean(axis=0), color=\"red\", label=\"bo relative coordinate system\")\n",
    "ax.fill_between(range(11, 31),(best_sobo.mean(0)-best_sobo.std(0)), (best_sobo.mean(0)+best_sobo.std(0)), alpha = 0.3, color = 'red')\n",
    "\n",
    "ax.set_xlabel(\"Iteration\")\n",
    "ax.set_ylabel(\"Hypervolume\")\n",
    "ax.legend()\n",
    "\n",
    "plt.show()"
   ]
  },
  {
   "cell_type": "markdown",
   "metadata": {},
   "source": [
    "##### Pareto Front"
   ]
  },
  {
   "cell_type": "code",
   "execution_count": null,
   "metadata": {},
   "outputs": [],
   "source": [
    "optimal = get_pareto_front(HPLC(n_gradients=4, multiobjective=True).domain,pd.concat([mo_rresults[-1][0], mo_sresults[-1][0]],axis=0))\n",
    "\n",
    "fig, ax = plt.subplots()\n",
    "\n",
    "ax.scatter(mo_rresults[-1][0].resolution,mo_rresults[-1][0].ctime*-1, color=\"blue\", label=\"random\")\n",
    "ax.scatter(mo_sresults[-1][0].resolution,mo_sresults[-1][0].ctime*-1, color=\"red\", label=\"bo\")\n",
    "ax.scatter(baseline_resolution, baseline_ctime*-1, color=\"green\", label=\"baseline\")\n",
    "ax.scatter(optimal.resolution,optimal.ctime*-1, color=\"black\", marker=\"x\", label=\"optimal\")\n",
    "\n",
    "ax.legend()\n",
    "\n",
    "ax.set_xlabel(\"Resolution\")\n",
    "ax.set_ylabel(\"Time\")\n",
    "\n",
    "#labels = [i for i in ax.get_yticklabels()]\n",
    "ax.set_yticks([-70, -60, -50, -40, -30, -20, -10])\n",
    "ax.set_yticklabels([\"70\", \"60\", \"50\", \"40\", \"30\", \"20\", \"10\"])\n",
    "\n",
    "plt.show()"
   ]
  },
  {
   "cell_type": "markdown",
   "metadata": {},
   "source": [
    "Here we show the six paretooptimal chromatograms together with their gradient profiles."
   ]
  },
  {
   "cell_type": "code",
   "execution_count": null,
   "metadata": {},
   "outputs": [],
   "source": [
    "for i, row in optimal.sort_values(by=\"ctime\").iterrows():\n",
    "    hplc.plot_chromatogram(row)"
   ]
  }
 ],
 "metadata": {
  "kernelspec": {
   "display_name": "Python 3 (ipykernel)",
   "language": "python",
   "name": "python3"
  },
  "language_info": {
   "codemirror_mode": {
    "name": "ipython",
    "version": 3
   },
   "file_extension": ".py",
   "mimetype": "text/x-python",
   "name": "python",
   "nbconvert_exporter": "python",
   "pygments_lexer": "ipython3",
   "version": "3.11.5"
  }
 },
 "nbformat": 4,
 "nbformat_minor": 4
}
